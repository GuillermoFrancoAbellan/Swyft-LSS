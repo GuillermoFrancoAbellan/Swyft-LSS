{
 "cells": [
  {
   "cell_type": "markdown",
   "metadata": {},
   "source": [
    "The single purpose of this notebook is to generate the mock data for the MCMC"
   ]
  },
  {
   "cell_type": "code",
   "execution_count": null,
   "metadata": {},
   "outputs": [],
   "source": [
    "# general imports\n",
    "import numpy    as np\n",
    "from time      import time\n",
    "from class_interface import Main"
   ]
  },
  {
   "cell_type": "markdown",
   "metadata": {},
   "source": [
    "### Select input options and parameters\n"
   ]
  },
  {
   "cell_type": "code",
   "execution_count": 2,
   "metadata": {},
   "outputs": [],
   "source": [
    "# These are the specifications of the experiment\n",
    "specs = {'fsky': 0.35,\n",
    "         'gal_per_arcmin': 30.,\n",
    "         'sigma_eps': 0.3,\n",
    "         'Nbin_ell': 30,\n",
    "         'lmin': 10,\n",
    "         'lmax': 2000,\n",
    "         'zmin': 0.01,\n",
    "         'kmax': 10, \n",
    "         'use_obs': {'GC': True, 'WL': True},\n",
    "         'feedback': True, # We want to print stuff\n",
    "         'ddm':False # We don't want ddm corrections on the non-linear Pk\n",
    "        }\n",
    "\n",
    "# path for n(z) and luminosity files\n",
    "survey = {'luminosity': './input_files/luminosity_ratio.dat', \n",
    "          'nz': './input_files/nzTabISTF.dat',\n",
    "          }\n",
    "\n",
    "\n",
    "# fiducial values for cosmological parameters\n",
    "params = {'output':'mPk',\n",
    "          'non linear':'halofit',\n",
    "          'omega_b': 0.022445,\n",
    "          'omega_cdm': 0.1206,\n",
    "          'n_s': 0.96,\n",
    "          'ln10^{10}A_s': 3.0568,\n",
    "          'H0': 67.,\n",
    "          'tau_reio': 0.05,\n",
    "          'N_ur':2.0328,\n",
    "          'N_ncdm':1,\n",
    "          'm_ncdm': 0.06\n",
    "          }\n",
    "\n",
    "\n",
    "if specs['ddm']:\n",
    "    params.update({'log10_Gamma':-3,'log10_vk':2})\n",
    "    \n",
    "#Update with list of nuisance parameters\n",
    "params.update({'A_IA': 1.72,'eta_IA': -0.41,'beta_IA': 0.0,\n",
    "                   'b_1':1.09977,'b_2':1.22025,'b_3':1.2724,'b_4':1.31662,'b_5':1.35812,\n",
    "                   'b_6':1.39982,'b_7':1.44465,'b_8':1.4965,'b_9':1.56525,'b_10':1.74299})\n",
    "\n",
    "\n",
    "# path to save a mock dataset to. If an empty string is used, data will not be saved\n",
    "if specs['ddm']:\n",
    "    save_data_topath = '/data/StageIV_3x2pt_fid_LDDM.npy'\n",
    "else:\n",
    "    save_data_topath = '/data/StageIV_3x2pt_fid_LCDM.npy'"
   ]
  },
  {
   "cell_type": "markdown",
   "metadata": {},
   "source": [
    "### Compute fiducial spectra"
   ]
  },
  {
   "cell_type": "code",
   "execution_count": 3,
   "metadata": {},
   "outputs": [
    {
     "name": "stdout",
     "output_type": "stream",
     "text": [
      "CLASS calculation done in 2.3 s\n",
      "Kernels computed in 0.2 s\n",
      "Cls computed in 14.7 s\n",
      "Covmat computed in 4.9 s\n",
      "noisy realization around fiducial C_ell computed in 0.3 s\n"
     ]
    }
   ],
   "source": [
    "%%time \n",
    "calculator = Main(specs,survey)\n",
    "observables = calculator.get_calculations(params)\n",
    "Cls = observables.Cls\n",
    "covmat_fiducial,noisy_cls = calculator.get_noisy_Cls(Cls)"
   ]
  },
  {
   "cell_type": "markdown",
   "metadata": {},
   "source": [
    "### Save the data"
   ]
  },
  {
   "cell_type": "code",
   "execution_count": 4,
   "metadata": {},
   "outputs": [],
   "source": [
    "if save_data_topath != '':\n",
    "    dataset = {'covmat': covmat_fiducial,\n",
    "               'Cls': noisy_cls,\n",
    "               'specs': specs,\n",
    "               'nz': calculator.ni,\n",
    "               'lumfunc': calculator.lumfunc}\n",
    "\n",
    "    np.save(save_data_topath,dataset)"
   ]
  }
 ],
 "metadata": {
  "kernelspec": {
   "display_name": "Python 3",
   "language": "python",
   "name": "python3"
  },
  "language_info": {
   "codemirror_mode": {
    "name": "ipython",
    "version": 3
   },
   "file_extension": ".py",
   "mimetype": "text/x-python",
   "name": "python",
   "nbconvert_exporter": "python",
   "pygments_lexer": "ipython3",
   "version": "3.7.1"
  }
 },
 "nbformat": 4,
 "nbformat_minor": 5
}
