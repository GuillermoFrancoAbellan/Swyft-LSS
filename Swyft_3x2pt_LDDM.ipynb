{
 "cells": [
  {
   "cell_type": "markdown",
   "metadata": {},
   "source": [
    "This notebook illustrates inference with _Swyft_ for **$\\Lambda$DDM** cosmology with a simulator of **Stage IV 3x2pt photometric probes**\n",
    "\n",
    "That is, our observables are the weak-lensing, galaxy clustering and the cross-correlated angular power spectra at different tomographic redshift bins\n",
    "\n",
    "We focus here on the **2 decaying dark matter parameters**. The main steps are:\n",
    "\n",
    "- Define the simulator, which uses routines defined in class_interface.py (it requires having _CLASS_ and _DMemu_ installed)\n",
    "\n",
    "- Load or define a mock observation and a data store\n",
    "\n",
    "- Rotate the data vector to Cholesky basis, and perform Principal Component Analysis (PCA)\n",
    "\n",
    "- Define compression network\n",
    "\n",
    "- Train the network (compression+inference)\n",
    "\n",
    "- Plot marginal posteriors and compare with results from MCMC chains"
   ]
  },
  {
   "cell_type": "code",
   "execution_count": 1,
   "metadata": {},
   "outputs": [
    {
     "data": {
      "text/plain": [
       "True"
      ]
     },
     "execution_count": 1,
     "metadata": {},
     "output_type": "execute_result"
    }
   ],
   "source": [
    "# General imports\n",
    "import swyft  #the version used is 0.4.6.\n",
    "import torch\n",
    "import pytorch_lightning as pl\n",
    "\n",
    "#we use joblib to generate simulations in parallel\n",
    "from joblib import Parallel, delayed\n",
    "import psutil\n",
    "\n",
    "from class_interface import Main\n",
    "\n",
    "import numpy   as np\n",
    "from time      import time\n",
    "from scipy     import stats\n",
    "from getdist import plots, loadMCSamples #to plot MCMC results\n",
    "\n",
    "import matplotlib.pyplot as plt\n",
    "from matplotlib.lines import Line2D\n",
    "from matplotlib import rc\n",
    "rc('text', usetex=True)\n",
    "rc('font', **{'family': 'serif', 'serif': ['cmr10']})\n",
    "\n",
    "# Having a GPU makes training much faster, but it's not compulsory\n",
    "DEVICE = 'gpu' if torch.cuda.is_available() else 'cpu'"
   ]
  },
  {
   "cell_type": "markdown",
   "metadata": {},
   "source": [
    "Set fiducial values for ($\\mathrm{log}_{10}(\\Gamma \\times \\mathrm{Gyr})$, $\\mathrm{log}_{10}(v_k \\times \\frac{\\mathrm{s}}{\\mathrm{km}})$, $H_0$, 100$\\omega_b$, $\\omega_c$, $n_s$, $\\mathrm{ln}(10^{10}A_s)$, $A_{\\rm IA}$, $\\eta_{\\rm IA}$, $b_1$, $b_2$, $b_3$, $b_4$, $b_5$, $b_6$, $b_7$, $b_8$, $b_9$, $b_{10}$)"
   ]
  },
  {
   "cell_type": "code",
   "execution_count": 3,
   "metadata": {},
   "outputs": [],
   "source": [
    "fiducial = np.array([-3,2,67.,2.2445,0.1206,0.96,3.0568,1.72,-0.41,1.09977,1.22025,1.2724,1.31662,1.35812,1.39982,1.44465,1.4965,1.56525,1.74299])\n",
    "\n",
    "beta_IA = 0.0 #we neglect dependence of Intrinsic Alignment on the galaxy luminosity function"
   ]
  },
  {
   "cell_type": "markdown",
   "metadata": {},
   "source": [
    "Load pre-computed inverse of Fisher matrix (see 'Fisher' folder)"
   ]
  },
  {
   "cell_type": "code",
   "execution_count": 4,
   "metadata": {},
   "outputs": [],
   "source": [
    "N_pars_lcdm = 17 # total number of LCDM+nuisance parameters (not including the 2 DDM parameters)\n",
    "Finv = np.load('./Fisher/Finv_LCDM.npy')\n",
    "    \n",
    "# Obtain 1sigma values of LCDM+nuisance params from Fisher \n",
    "sigmas=[]\n",
    "for i in range(N_pars_lcdm): sigmas.append(np.sqrt(Finv[i,i]))"
   ]
  },
  {
   "cell_type": "markdown",
   "metadata": {},
   "source": [
    "### Define the simulator class"
   ]
  },
  {
   "cell_type": "code",
   "execution_count": 5,
   "metadata": {},
   "outputs": [],
   "source": [
    "Nbin_z = 10  # Number of tomographic z-bins\n",
    "Nbin_ell = 30 # Number of ell-bin edges\n",
    "N_spectra = Nbin_z*(2*Nbin_z+1) # total number of spectra (210 for 10 z-bins)\n",
    "\n",
    "lmin = 10\n",
    "lmax = 2000\n",
    "\n",
    "class Simulator(swyft.Simulator):\n",
    "    def __init__(self, zmin = 0.01, kmax = 10., bounds = None):\n",
    "\n",
    "        super().__init__()\n",
    "        self.transform_samples = swyft.to_numpy32\n",
    "        \n",
    "        # These are the specifications of the experiment\n",
    "        self.specs = {'fsky': 0.35,\n",
    "                      'gal_per_arcmin': 30.,\n",
    "                      'sigma_eps': 0.3,\n",
    "                      'Nbin_ell': Nbin_ell,\n",
    "                      'lmin': lmin,\n",
    "                      'lmax': lmax,\n",
    "                      'zmin': zmin,\n",
    "                      'kmax': kmax,           \n",
    "                      'use_obs': {'GC': True, 'WL': True},\n",
    "                      'feedback': False, # We don't want to print stuff\n",
    "                      'ddm':True}  # We want ddm corrections on the non-linear Pk\n",
    "        \n",
    "        self.survey = {'luminosity': './Input_files/luminosity_ratio.dat',\n",
    "                      'nz': './Input_files/nzTabISTF.dat'\n",
    "                       }\n",
    "            \n",
    "        # Initialize interface with CLASS\n",
    "        self.calculator = Main(self.specs,self.survey)\n",
    "        # define default prior region\n",
    "        self.sample_z = swyft.RectBoundSampler(stats.uniform(np.array([-3,2,60,0.8,0.10,0.91,2.8,1.55,-0.45,0.9,1.1,1.15,1.2,1.25,1.3,1.35,1.4,1.4,1.6]), \n",
    "                                                             np.array([1.8,1.6,15,2.7,0.04,0.12,0.5,0.34,0.08,0.3,0.3,0.3,0.3,0.3,0.3,0.3,0.3,0.3,0.3])), \n",
    "                                                             bounds = bounds) \n",
    " \n",
    "        #define the keys for the different spectra\n",
    "        WLcols = ['L{}xL{}'.format(i,j) for i in range(1,Nbin_z+1) for j in range(i,Nbin_z+1)]\n",
    "        GCcols = ['G{}xG{}'.format(i,j) for i in range(1,Nbin_z+1) for j in range(i,Nbin_z+1)]\n",
    "        XCcols = ['G{}xL{}'.format(i,j) for i in range(1,Nbin_z+1) for j in range(1,Nbin_z+1)]\n",
    "        self.all_cols = WLcols+XCcols+GCcols  \n",
    "        \n",
    "        # define the ell bins\n",
    "        ell_lims    = np.logspace(np.log10(lmin),np.log10(lmax),Nbin_ell)\n",
    "        self.ells   = 0.5*(ell_lims[:-1]+ell_lims[1:])\n",
    "\n",
    "        # select fiducial parameters\n",
    "        self.params_fid = {'output':'mPk',\n",
    "                          'non linear':'halofit',\n",
    "                          'log10_Gamma':fiducial[0],\n",
    "                          'log10_vk':fiducial[1],\n",
    "                          'H0': fiducial[2],\n",
    "                          'omega_b': fiducial[3]*1e-2,\n",
    "                          'omega_cdm': fiducial[4],\n",
    "                          'n_s': fiducial[5],\n",
    "                          'ln10^{10}A_s': fiducial[6],\n",
    "                          'tau_reio': 0.05,\n",
    "                          'N_ur':2.0328,\n",
    "                          'N_ncdm':1,\n",
    "                          'm_ncdm': 0.06\n",
    "                           }\n",
    "            \n",
    "        #Update with list of nuisance parameters\n",
    "        self.params_fid.update({'A_IA': fiducial[7],'eta_IA': fiducial[8],'beta_IA': 0.0,\n",
    "                                'b_1': fiducial[9], 'b_2': fiducial[10],'b_3': fiducial[11],'b_4': fiducial[12],\n",
    "                                'b_5': fiducial[13],'b_6': fiducial[14],'b_7': fiducial[15],'b_8': fiducial[16],\n",
    "                                'b_9': fiducial[17],'b_10':fiducial[18]})\n",
    "            \n",
    "        #obtain covariance matrix for fiducial spectra\n",
    "        self.observables_fid = self.calculator.get_calculations(self.params_fid)\n",
    "        self.Cls_fid = self.observables_fid.Cls\n",
    "        self.covmat_fid, self.noisy_Cls_fid = self.calculator.get_noisy_Cls(self.Cls_fid)\n",
    "        \n",
    "        # Perform Cholesky decomposition of the covariance matrix\n",
    "        self.L_fid = {}\n",
    "        for ind,ell in enumerate(self.ells):\n",
    "            self.L_fid[str(int(ell))] = torch.linalg.cholesky(torch.tensor(self.covmat_fid[str(int(ell))].values).double())\n",
    "      \n",
    "    def get_sample_Cls(self,z):\n",
    "\n",
    "        #Select cosmo parameters\n",
    "        self.params = {'output':'mPk',\n",
    "                      'non linear':'halofit',\n",
    "                      'log10_Gamma':z[0],\n",
    "                      'log10_vk':z[1],\n",
    "                      'H0': z[2],\n",
    "                      'omega_b': z[3]*1e-2,\n",
    "                      'omega_cdm': z[4],\n",
    "                      'n_s': z[5],\n",
    "                      'ln10^{10}A_s': z[6],\n",
    "                      'tau_reio': 0.05,\n",
    "                      'N_ur':2.0328,\n",
    "                      'N_ncdm':1,\n",
    "                      'm_ncdm': 0.06\n",
    "                       }\n",
    "   \n",
    "        #Update with list of nuisance parameters\n",
    "        self.params.update({'A_IA': z[7],'eta_IA': z[8],'beta_IA': 0.0,\n",
    "                            'b_1': z[9],'b_2': z[10],'b_3': z[11],'b_4': z[12],\n",
    "                            'b_5': z[13],'b_6': z[14],'b_7': z[15],'b_8': z[16],\n",
    "                            'b_9': z[17],'b_10':z[18]})\n",
    "        \n",
    "        #compute un-noised C_ells spectra\n",
    "        self.observables = self.calculator.get_calculations(self.params)\n",
    "        self.Cls = self.observables.Cls    \n",
    "        self.Cls.pop('ells')\n",
    "        #Note: self.Cls is a dictionary, but in the simulator we need to have numpy arrays as the output of the graph.nodes            \n",
    "        vals_Cls = np.array(list(self.Cls.values))\n",
    "        return vals_Cls.transpose()\n",
    "    \n",
    "    def get_sample_noise(self):\n",
    "        #generate noise realization (using covariance matrix for fiducial cosmology)\n",
    "        self.noise = self.calculator.get_realization(None,self.covmat_fid,self.all_cols)\n",
    "        #Note: self.noise is a dictionary, but in the simulator we need to have numpy arrays as the output of the graph.nodes            \n",
    "        vals_noise = np.array(list(self.noise.values()))\n",
    "        return vals_noise\n",
    "\n",
    "    def build(self, graph):\n",
    "        # define the computational graph of the simulator\n",
    "        z = graph.node('z', self.sample_z) #draw parameters from the prior\n",
    "        C_ells = graph.node('C_ells', self.get_sample_Cls, z) #compute un-noised Cls\n",
    "        noise  = graph.node('noise', self.get_sample_noise) # get the noise, we will add it to the un-noised Cls later"
   ]
  },
  {
   "cell_type": "markdown",
   "metadata": {},
   "source": [
    "Estimate the bounds of the prior region based on the Fisher results"
   ]
  },
  {
   "cell_type": "code",
   "execution_count": 6,
   "metadata": {},
   "outputs": [],
   "source": [
    "bounds = []\n",
    "# for DDM parameters we use entire prior region, \n",
    "# (we cannot use estimates from Fisher since DDM posteriors are very non-gaussian)\n",
    "bounds.append([fiducial[0],fiducial[0]+1.8])\n",
    "bounds.append([fiducial[1],fiducial[1]+1.6])\n",
    "\n",
    "for i in range(2,N_pars_lcdm+2):\n",
    "    #we take slightly wider priors on the rest of parameters to account for potential new degeneracies\n",
    "    bounds.append([fiducial[i]-6*sigmas[i-2],fiducial[i]+6*sigmas[i-2]]) \n",
    "bounds = np.array(bounds)"
   ]
  },
  {
   "cell_type": "markdown",
   "metadata": {},
   "source": [
    "Create an instance of the simulator class with the correct bounds"
   ]
  },
  {
   "cell_type": "code",
   "execution_count": 7,
   "metadata": {},
   "outputs": [],
   "source": [
    "generate_sims = False # we can set this flag to False if we already generated the simulations\n",
    "\n",
    "if generate_sims:    \n",
    "    sim = Simulator(bounds = bounds)\n",
    "    shapes, dtypes = sim.get_shapes_and_dtypes()\n",
    "    print(\"shapes:\", shapes)\n",
    "    print(\"dtypes:\", dtypes)"
   ]
  },
  {
   "cell_type": "markdown",
   "metadata": {},
   "source": [
    "Store/load the Cholesky matrix (we will need it later)"
   ]
  },
  {
   "cell_type": "code",
   "execution_count": 8,
   "metadata": {},
   "outputs": [],
   "source": [
    "if generate_sims:\n",
    "    Lfid = sim.L_fid\n",
    "    np.save('./Aux_files/cholesky_LDDM.npy',Lfid, allow_pickle=True)\n",
    "    \n",
    "Lfid = np.load('./Aux_files/cholesky_LDDM.npy',allow_pickle=True).item()"
   ]
  },
  {
   "cell_type": "markdown",
   "metadata": {},
   "source": [
    "Store/load mock observation (we will need it later)"
   ]
  },
  {
   "cell_type": "code",
   "execution_count": 9,
   "metadata": {},
   "outputs": [],
   "source": [
    "if generate_sims:\n",
    "    # generate mock data from fiducial model (and save it)\n",
    "    obs = sim.sample(conditions = {'z': fiducial})\n",
    "    np.save('./Aux_files/obs_LDDM.npy',obs, allow_pickle=True)\n",
    "        \n",
    "obs = np.load('./Aux_files/obs_LDDM.npy',allow_pickle=True).item()"
   ]
  },
  {
   "cell_type": "markdown",
   "metadata": {},
   "source": [
    "### Create ZarrStore for simulations (or read it if it was already created)"
   ]
  },
  {
   "cell_type": "code",
   "execution_count": 10,
   "metadata": {},
   "outputs": [],
   "source": [
    "%%time\n",
    "store = swyft.ZarrStore(\"./Store_LDDM_3e4sims\")\n",
    "\n",
    "N_sims = 30_000 #number of simulations\n",
    "\n",
    "# this piece of code allows to generate simulations in parallel \n",
    "if generate_sims:\n",
    "    store.init(N_sims, 64, shapes, dtypes)  \n",
    "    def simulate_parallel(sim):\n",
    "        store.simulate(sim,max_sims=64, batch_size = 64)        \n",
    "    njobs = psutil.cpu_count(logical=True) # njobs = number of available CPUs, the larger the faster\n",
    "    while store.sims_required > 0:\n",
    "        Parallel(n_jobs=njobs)(delayed(simulate_parallel)(sim) for _ in range(njobs))\n",
    "        \n",
    "store = store.get_sample_store()"
   ]
  },
  {
   "cell_type": "markdown",
   "metadata": {},
   "source": [
    "Rotate data to the Cholesky basis (in order to decouple the different spectra)"
   ]
  },
  {
   "cell_type": "code",
   "execution_count": 11,
   "metadata": {},
   "outputs": [],
   "source": [
    "ell_lims    = np.logspace(np.log10(lmin),np.log10(lmax),Nbin_ell)\n",
    "ells   = 0.5*(ell_lims[:-1]+ell_lims[1:])\n",
    "\n",
    "Cells_chol = np.zeros((N_sims,N_spectra,Nbin_ell-1))\n",
    "noise_chol = np.zeros((N_sims,N_spectra,Nbin_ell-1))\n",
    "\n",
    "for ind,ell in enumerate(ells):\n",
    "    Linv = np.linalg.inv(Lfid[str(int(ell))]) #inverse of Cholesky matrix\n",
    "    Cells_chol[...,ind] = np.matmul(Linv, store['C_ells'][...,ind].T).T\n",
    "    noise_chol[...,ind] = np.matmul(Linv, store['noise'][...,ind].T).T\n",
    "\n",
    "store_samples = swyft.Samples(z=store['z'], C_ells=Cells_chol,noise=noise_chol) #redefine store with rotated data"
   ]
  },
  {
   "cell_type": "markdown",
   "metadata": {},
   "source": [
    "### Perform Principal Component Analysis (PCA)"
   ]
  },
  {
   "cell_type": "code",
   "execution_count": 12,
   "metadata": {},
   "outputs": [],
   "source": [
    "store_PCA = False #set this flag to False if we already did PCA and stored the Vh_proj matrix\n",
    "\n",
    "if store_PCA:\n",
    "    # we first flatten all the spectra into a long vector, and take 10^4 samples from the store\n",
    "    Flatten = torch.nn.Flatten()\n",
    "    fCells_chol = Flatten(torch.from_numpy(Cells_chol[:10_000])) # shape is (10^4,N_spectra)\n",
    "    # do singular-value-decomposition\n",
    "    U, S, Vh = torch.linalg.svd(fCells_chol)\n",
    "    #obtain the fractional contribution of each eigen-value\n",
    "    Stot = torch.sum(S)\n",
    "    Sn = (S/Stot)*100\n",
    "    if False: #only if we want to plot the eigenvalues (from largest to lowest)\n",
    "        plt.loglog(Sn)\n",
    "        plt.ylabel(r'Eigenvalue $\\lambda_i$ contribution ($\\%$)',fontsize=14)\n",
    "        plt.xlabel(r'Eigenvalue index $i$',fontsize=14)\n",
    "        plt.ylim([1e-6,100.1])\n",
    "        plt.xlim([0,6090])\n",
    "    #store the matrix Vh, but only keeping the terms whose eigenvalues contribute more than 0.01%\n",
    "    ind = Sn > 0.01\n",
    "    Vh_proj = Vh[ind]\n",
    "    np.save('./Aux_files/SVD_LDDM.npy',Vh_proj, allow_pickle=True)\n",
    "\n",
    "#load the matrix Vh\n",
    "Vh_proj = np.load('./Aux_files/SVD_LDDM.npy',allow_pickle=True)\n",
    "Vh_proj = torch.from_numpy(Vh_proj).cuda().double()\n",
    "lenV = len(Vh_proj) #number of PCA components"
   ]
  },
  {
   "cell_type": "markdown",
   "metadata": {},
   "source": [
    "### Define the network architecture"
   ]
  },
  {
   "cell_type": "code",
   "execution_count": 32,
   "metadata": {},
   "outputs": [],
   "source": [
    "# Define network here\n",
    "class Network(swyft.AdamWReduceLROnPlateau,swyft.SwyftModule):\n",
    "    def __init__(self):\n",
    "        super().__init__()\n",
    "        self.learning_rate = 1e-3\n",
    "        self.batch_size = 256 \n",
    "        self.num_params_show = 2 # number of parameters of interest, obviously cannot be larger than N_pars\n",
    "        self.num_feat_param = 2 # number of features per parameter of interest (2 seem to work well)\n",
    "        self.marginals  = self.get_marginals(self.num_params_show) \n",
    "        self.flatten = torch.nn.Flatten() \n",
    "        self.norm =  swyft.networks.OnlineStandardizingLayer(torch.Size([lenV]), epsilon=1e-50)\n",
    "        \n",
    "        #compression network, here one could play with number of layers and neurons\n",
    "        self.sequential = torch.nn.Sequential(\n",
    "            torch.nn.LazyLinear(256), \n",
    "            torch.nn.ReLU(),\n",
    "            torch.nn.LazyLinear(self.num_params_show*self.num_feat_param),\n",
    "            torch.nn.LazyBatchNorm1d()\n",
    "        )\n",
    "        \n",
    "        #pre-defined MLP to get 1-dim marginals\n",
    "        self.logratios1 = swyft.LogRatioEstimator_1dim(num_features = self.num_feat_param, \n",
    "                                                       num_params = self.num_params_show, varnames = 'z', \n",
    "                                                       num_blocks = 4, dropout = 0.1)\n",
    "        #pre-defined MLP to get 2-dim marginals\n",
    "        self.logratios2 = swyft.LogRatioEstimator_Ndim(num_features = 2*self.num_feat_param,\n",
    "                                                       marginals = self.marginals, varnames = 'z',\n",
    "                                                       num_blocks = 4, dropout = 0.1)\n",
    "\n",
    "    @staticmethod\n",
    "    def get_marginals(n_params): #get all possible marginal combinations given number of parameters\n",
    "        marginals = []\n",
    "        for i in range(n_params):\n",
    "            for j in range(n_params):\n",
    "                if j>i: marginals.append((i, j))\n",
    "        return tuple(marginals)\n",
    "    \n",
    "    def forward(self, A, B):\n",
    "        \n",
    "        C_ells_noisy_chol = A['C_ells']+A['noise']   #add noise to the spectra\n",
    "        fC_ells_noisy_chol = self.flatten(C_ells_noisy_chol) #flatten all spectra into a large vector   \n",
    "        \n",
    "        s = (Vh_proj@fC_ells_noisy_chol.T).T #project to PCA basis\n",
    "        s = self.norm(s)  #normalization\n",
    "        s = self.sequential(s)  #linear compression\n",
    "        \n",
    "        z = B['z'][...,:self.num_params_show] #select only params of interest\n",
    "        \n",
    "        # Use num_feat_param per 1-dim marginal, s1 has shape (batch, num_params_show, num_feat_param)\n",
    "        s1 = s.reshape(-1, self.num_params_show, self.num_feat_param)  \n",
    "        # Use num_feat_param+num_feat_param per 2-dim marginal, s2 has shape (batch, num_marginals, 2*num_feat_param)\n",
    "        s2 = torch.stack([torch.cat([s1[:, i, :], s1[:, j, :]], dim = -1) for i, j in self.marginals], dim = 1)  \n",
    "        logratios1 = self.logratios1(s1, z)\n",
    "        logratios2 = self.logratios2(s2, z)\n",
    "        return logratios1, logratios2"
   ]
  },
  {
   "cell_type": "markdown",
   "metadata": {},
   "source": [
    "This function allows to resample the noise on the fly, it helps a lot with the training"
   ]
  },
  {
   "cell_type": "code",
   "execution_count": 33,
   "metadata": {},
   "outputs": [],
   "source": [
    "def resampler(x): # we mix the noise of different spectra across different realizations\n",
    "                  # (notice that we can do this because we rotated to Cholesky basis, where spectra are independent)\n",
    "    i = np.random.randint(N_sims, size = (N_spectra,)) \n",
    "    noise = np.array([store_samples['noise'][j][k] for k, j in enumerate(i)]) \n",
    "    x['noise'] = noise\n",
    "    return x"
   ]
  },
  {
   "cell_type": "markdown",
   "metadata": {},
   "source": [
    "### Train the network"
   ]
  },
  {
   "cell_type": "code",
   "execution_count": 34,
   "metadata": {
    "scrolled": true
   },
   "outputs": [
    {
     "name": "stderr",
     "output_type": "stream",
     "text": [
      "GPU available: True (cuda), used: True\n",
      "TPU available: False, using: 0 TPU cores\n",
      "IPU available: False, using: 0 IPUs\n",
      "HPU available: False, using: 0 HPUs\n"
     ]
    }
   ],
   "source": [
    "%%time\n",
    "# Perform inference\n",
    "network = Network()\n",
    "dm = swyft.SwyftDataModule(store_samples, num_workers = 3, \n",
    "                           batch_size = network.batch_size,\n",
    "                           val_fraction = 0.2, #we use 20% of the samples for validation\n",
    "                           on_after_load_sample=resampler) #do noise resampling\n",
    "\n",
    "trainer = swyft.SwyftTrainer(accelerator = DEVICE, devices=1, \n",
    "                             max_epochs = -1, precision = 64)\n",
    "\n",
    "trainer.fit(network, dm)"
   ]
  },
  {
   "cell_type": "markdown",
   "metadata": {},
   "source": [
    "To get consistent results, we also need to rotate the mock observation to the Cholesky basis"
   ]
  },
  {
   "cell_type": "code",
   "execution_count": 35,
   "metadata": {},
   "outputs": [],
   "source": [
    "oCells_chol = np.zeros((N_spectra,Nbin_ell-1))\n",
    "onoise_chol = np.zeros((N_spectra,Nbin_ell-1))\n",
    "\n",
    "for ind,ell in enumerate(ells):\n",
    "    Linv = np.linalg.inv(Lfid[str(int(ell))])\n",
    "    oCells_chol[...,ind] = np.matmul(Linv, obs['C_ells'][...,ind].T).T\n",
    "    onoise_chol[...,ind] = np.matmul(Linv, obs['noise'][...,ind].T).T\n",
    "    \n",
    "obs_p = swyft.Sample(dict(C_ells=oCells_chol, noise=0.*onoise_chol))  # we choose to work with a noiseless observation"
   ]
  },
  {
   "cell_type": "markdown",
   "metadata": {},
   "source": [
    "We quickly evaluate the trained network with the mock observation and many parameter samples ($2\\times 10^6$) drawn from the prior"
   ]
  },
  {
   "cell_type": "code",
   "execution_count": 36,
   "metadata": {},
   "outputs": [
    {
     "name": "stderr",
     "output_type": "stream",
     "text": [
      "The following callbacks returned in `LightningModule.configure_callbacks` will override existing callbacks passed to Trainer: ModelCheckpoint\n",
      "LOCAL_RANK: 0 - CUDA_VISIBLE_DEVICES: [0]\n"
     ]
    },
    {
     "data": {
      "application/vnd.jupyter.widget-view+json": {
       "model_id": "172e154543a3458caff5f47a7f65adf4",
       "version_major": 2,
       "version_minor": 0
      },
      "text/plain": [
       "Predicting: 0it [00:00, ?it/s]"
      ]
     },
     "metadata": {},
     "output_type": "display_data"
    }
   ],
   "source": [
    "prior_samples = swyft.Samples(z = stats.uniform([-3,2], \n",
    "                                                [1.8,1.6]).rvs(size=(2_000_000,2))) \n",
    "# note: we choose a very large number of prior samples to get smooth posteriors, but evaluation is still very fast\n",
    "\n",
    "predictions = trainer.infer(network, obs_p, prior_samples)"
   ]
  },
  {
   "cell_type": "markdown",
   "metadata": {},
   "source": [
    "We post-process the MCMC chains using getdist"
   ]
  },
  {
   "cell_type": "code",
   "execution_count": 37,
   "metadata": {},
   "outputs": [
    {
     "data": {
      "text/plain": [
       "<Figure size 800x600 with 0 Axes>"
      ]
     },
     "metadata": {},
     "output_type": "display_data"
    }
   ],
   "source": [
    "chains = {'varnuis_bbin': {'path': './MontePython/chains/3x2pt_LDDM/2024-03-11_2000000_','burn_in': 0.3,'Nchains': 18}}\n",
    "\n",
    "def analyze_chain(name,chain):\n",
    "    sample = loadMCSamples(chain['path'], settings={'ignore_rows': chain['burn_in']})\n",
    "    sample.setRanges({'log10_Gamma':(-3,-1.2)})\n",
    "    sample.setRanges({'log10_vk':(2,3.6)})\n",
    "    chain['sample'] = sample\n",
    "    return chain\n",
    "\n",
    "#list of parameters that we want to plot\n",
    "plot_pars = ['log10_Gamma','log10_vk']\n",
    "\n",
    "chains = {name: analyze_chain(name,chain) for name,chain in chains.items()}\n",
    "LDDM_3x2pt = [chain['sample'] for chain in chains.values()]\n",
    "\n",
    "#create instance of single_plotter, just to be able to plot posteriors from the MCMC later\n",
    "g = plots.get_single_plotter(width_inch=8) \n",
    "g.settings.axes_labelsize=20"
   ]
  },
  {
   "cell_type": "markdown",
   "metadata": {},
   "source": [
    "### Plot marginal posteriors and compare Swyft results with MCMC"
   ]
  },
  {
   "cell_type": "code",
   "execution_count": 38,
   "metadata": {},
   "outputs": [
    {
     "data": {
      "image/png": "[encoded data removed]",
      "text/plain": [
       "<Figure size 600x500 with 1 Axes>"
      ]
     },
     "metadata": {},
     "output_type": "display_data"
    }
   ],
   "source": [
    "%matplotlib inline \n",
    "from scipy.interpolate import interp1d\n",
    "\n",
    "show_MCMC = True #Flag to decide whether we want to show the MCMC posteriors\n",
    "color_mcmc='green'\n",
    "color_swyft='black'\n",
    "color_kids='peachpuff'\n",
    "\n",
    "#read file with KiDS-1000 bounds from https://arxiv.org/abs/2307.03222 \n",
    "l10_Gamma_kids,l10_vk_kids =np.loadtxt('./Aux_files/bounds_DDM_KiDS.txt',unpack=True,skiprows=1)\n",
    "l10_Gamma_s4,l10_vk_s4 =np.loadtxt('./Aux_files/bounds_DDM_stage4.txt',unpack=True)\n",
    "\n",
    "#some interpolations to help with plotting\n",
    "fl10_vk_s4 = interp1d(l10_Gamma_s4,l10_vk_s4)\n",
    "fl10_Gamma_s4 = interp1d(l10_vk_s4,l10_Gamma_s4)\n",
    "fl10_vk_kids = interp1d(l10_Gamma_kids,l10_vk_kids)\n",
    "fl10_Gamma_kids = interp1d(l10_vk_kids,l10_Gamma_kids)\n",
    "\n",
    "# pair plot with swyft predictions\n",
    "swyft.plot_pair(predictions, ('z[0]', 'z[1]'),figsize=(6,5), \n",
    "                             bins = 150, smooth = 4.0) #we play with number of bins and smoothing to make posteriors look smoother\n",
    "\n",
    "fontsize=16\n",
    "labelpad=10\n",
    "plt.xlabel(r'$\\mathrm{log}_{10}(\\Gamma \\times \\mathrm{Gyr})$',fontsize = fontsize,labelpad=labelpad)\n",
    "plt.ylabel(r'$\\mathrm{log}_{10}(v_k \\times \\frac{\\mathrm{s}}{\\mathrm{km}})$',fontsize = fontsize,labelpad=labelpad)\n",
    "\n",
    "\n",
    "epsilon=0.02 # we slightly cut the axes just for aesthetics\n",
    "\n",
    "if show_MCMC: # add 2D posterior from MCMC\n",
    "    g.plot_2d(LDDM_3x2pt, plot_pars[0], plot_pars[1],ax = plt.gca(), colors=[color_mcmc],\n",
    "              lws=[2.0],alphas=[1.0],lims = [bounds[0,0]+epsilon,bounds[0,1]-epsilon, bounds[1,0]+epsilon,bounds[1,1]-epsilon])\n",
    "    \n",
    "\n",
    "# ugly routine to plot current KiDS-1000 bounds and corresponding contour (this can surely be optimized!)\n",
    "plt.plot(l10_Gamma_kids, l10_vk_kids, '-', color='chocolate', linewidth=1.5)\n",
    "alpha=0.6\n",
    "x1 = l10_Gamma_kids[65:121]\n",
    "plt.fill_between(x1,fl10_vk_s4(x1)+0.01,fl10_vk_kids(x1),zorder=1,color=color_kids,alpha=alpha,interpolate=True)\n",
    "x2=np.linspace(3.026,3.59,10)\n",
    "plt.fill_betweenx(x2,-3,fl10_Gamma_kids(x2),zorder=1,color=color_kids,alpha=alpha,interpolate=True)\n",
    "x3=np.linspace(2.55,3.02,10)\n",
    "plt.fill_betweenx(x3,fl10_Gamma_s4(x3),fl10_Gamma_kids(x3),zorder=1,color=color_kids,alpha=alpha,interpolate=True)\n",
    "x4=np.linspace(2.45,2.55,10)\n",
    "plt.fill_betweenx(x4,fl10_Gamma_s4(x4),-2.065,zorder=1,color=color_kids,alpha=alpha,interpolate=True)\n",
    "\n",
    "\n",
    "#play with tick settings        \n",
    "fontsize_tick = 16\n",
    "plt.gca().minorticks_on()\n",
    "plt.gca().tick_params(axis='both', which='minor',direction=\"in\", labelsize=fontsize_tick,size=2)\n",
    "plt.gca().tick_params(axis='both', which='major',direction=\"in\", labelsize=fontsize_tick,size=4)\n",
    "\n",
    "#change appearance of axes    \n",
    "[x.set_linewidth(1.5) for x in plt.gca().spines.values()]\n",
    "\n",
    "# add legend\n",
    "labels=['\\n KiDS-1000 \\n (Bucko et al.)']\n",
    "colors=['chocolate']\n",
    "labels.append(r'Stage IV (Swyft)')\n",
    "colors.append(color_swyft)\n",
    "if show_MCMC:\n",
    "    labels.append(r'Stage IV (MCMC)')\n",
    "    colors.append(color_mcmc)\n",
    "lines = [Line2D([0], [0], color=colors[i], linewidth=10, linestyle='-') for i in range(3)]\n",
    "plt.legend(lines, labels,loc=(0.52,0.45),fontsize=16,frameon=False)\n",
    "\n",
    "# save figure\n",
    "plt.savefig('Swyft_vs_MCMC_LDDM.pdf',bbox_inches='tight')"
   ]
  }
 ],
 "metadata": {
  "kernelspec": {
   "display_name": "Python 3",
   "language": "python",
   "name": "python3"
  },
  "language_info": {
   "codemirror_mode": {
    "name": "ipython",
    "version": 3
   },
   "file_extension": ".py",
   "mimetype": "text/x-python",
   "name": "python",
   "nbconvert_exporter": "python",
   "pygments_lexer": "ipython3",
   "version": "3.7.1"
  }
 },
 "nbformat": 4,
 "nbformat_minor": 5
}
