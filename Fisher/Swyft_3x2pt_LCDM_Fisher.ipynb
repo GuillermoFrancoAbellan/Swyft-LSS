{
 "cells": [
  {
   "cell_type": "markdown",
   "metadata": {},
   "source": [
    "This notebook illustrates Fisher analysis for **$\\Lambda$CDM** cosmology with a simulator of **Stage IV 3x2pt photometric probes**\n",
    "\n",
    "That is, our observables are the weak-lensing, galaxy clustering and the cross-correlated angular power spectra at different tomographic redshift bins\n",
    "\n",
    "We perform Fisher analysis in order to get an initial estimate of the 1$\\sigma$ errors of the 1d posteriors. We will use this to have a good guess for the prior boundaries: $[\\theta^0_i-5\\sigma_i, \\theta^0_i+5\\sigma_i]$. The main steps are:\n",
    "\n",
    "- Define the simulator, which uses routines defined in class_interface.py (it requires having _CLASS_ installed)\n",
    "\n",
    "- Compute and store the inverse of the Fisher matrix "
   ]
  },
  {
   "cell_type": "code",
   "execution_count": 1,
   "metadata": {},
   "outputs": [
    {
     "data": {
      "text/plain": [
       "True"
      ]
     },
     "execution_count": 1,
     "metadata": {},
     "output_type": "execute_result"
    }
   ],
   "source": [
    "# General imports\n",
    "import swyft #the version used is 0.4.6.\n",
    "import torch\n",
    "\n",
    "from class_interface import Main\n",
    "\n",
    "import numpy   as np\n",
    "from time      import time\n",
    "from scipy     import stats"
   ]
  },
  {
   "cell_type": "markdown",
   "metadata": {},
   "source": [
    "Set fiducial values for ($H_0$, 100$\\omega_b$, $\\omega_c$, $n_s$, $\\mathrm{ln}(10^{10}A_s)$, $A_{\\rm IA}$, $\\eta_{\\rm IA}$, $b_1$, $b_2$, $b_3$, $b_4$, $b_5$, $b_6$, $b_7$, $b_8$, $b_9$, $b_{10}$)"
   ]
  },
  {
   "cell_type": "code",
   "execution_count": 3,
   "metadata": {},
   "outputs": [],
   "source": [
    "N_pars = 17 # total number of parameters (cosmo+nuisance)\n",
    "fiducial = np.array([67.,2.2445,0.1206,0.96,3.0568,1.72,-0.41,1.09977,1.22025,1.2724,1.31662,1.35812,1.39982,1.44465,1.4965,1.56525,1.74299])\n",
    "\n",
    "beta_IA = 0.0 #we neglect dependence of Intrinsic Alignment on the galaxy luminosity function "
   ]
  },
  {
   "cell_type": "markdown",
   "metadata": {},
   "source": [
    "### Define the simulator class"
   ]
  },
  {
   "cell_type": "code",
   "execution_count": 5,
   "metadata": {},
   "outputs": [],
   "source": [
    "Nbin_z = 10  # Number of tomographic z-bins\n",
    "Nbin_ell = 30  # Number of ell-bin edges\n",
    "N_spectra = Nbin_z*(2*Nbin_z+1) # total number of spectra (210 for 10 z-bins)\n",
    "\n",
    "lmin = 10\n",
    "lmax = 2000\n",
    "\n",
    "class Simulator(swyft.Simulator):\n",
    "    def __init__(self, zmin = 0.01, kmax = 10., bounds = None):\n",
    "\n",
    "        super().__init__()\n",
    "        self.transform_samples = swyft.to_numpy32\n",
    "        \n",
    "        # These are the specifications of the experiment\n",
    "        self.specs = {'fsky': 0.35,\n",
    "                      'gal_per_arcmin': 30.,\n",
    "                      'sigma_eps': 0.3,\n",
    "                      'Nbin_ell': Nbin_ell,\n",
    "                      'lmin': lmin,\n",
    "                      'lmax': lmax,\n",
    "                      'zmin': zmin,\n",
    "                      'kmax': kmax,           \n",
    "                      'use_obs': {'GC': True, 'WL': True},\n",
    "                      'feedback': False, # We don't want to print stuff\n",
    "                      'ddm':False} # We don't want ddm corrections on the non-linear Pk\n",
    "        \n",
    "        # path for n(z) and luminosity files\n",
    "        self.survey = {'luminosity': './Input_files/luminosity_ratio.dat',\n",
    "                      'nz': './Input_files/nzTabISTF.dat'\n",
    "                       }\n",
    "        \n",
    "        # Initialize interface with CLASS\n",
    "        self.calculator = Main(self.specs,self.survey)\n",
    "        # define default prior region           \n",
    "        self.sample_z = swyft.RectBoundSampler(stats.uniform(np.array([60,0.8,0.10,0.91,2.8,1.55,-0.45,0.9,1.1,1.15,1.2,1.25,1.3,1.35,1.4,1.4,1.6]), \n",
    "                                                             np.array([15,2.7,0.04,0.12,0.5,0.34,0.08,0.3,0.3,0.3,0.3,0.3,0.3,0.3,0.3,0.3,0.3])), \n",
    "                                                             bounds = bounds) \n",
    "   \n",
    "        #define the keys for the different spectra\n",
    "        WLcols = ['L{}xL{}'.format(i,j) for i in range(1,Nbin_z+1) for j in range(i,Nbin_z+1)]\n",
    "        XCcols = ['G{}xL{}'.format(i,j) for i in range(1,Nbin_z+1) for j in range(1,Nbin_z+1)]\n",
    "        GCcols = ['G{}xG{}'.format(i,j) for i in range(1,Nbin_z+1) for j in range(i,Nbin_z+1)]\n",
    "        self.all_cols = WLcols+XCcols+GCcols  \n",
    "        \n",
    "        # define the ell bins\n",
    "        ell_lims    = np.logspace(np.log10(lmin),np.log10(lmax),Nbin_ell)\n",
    "        self.ells   = 0.5*(ell_lims[:-1]+ell_lims[1:])\n",
    "\n",
    "        # select fiducial parameters\n",
    "        self.params_fid = {'output':'mPk',\n",
    "                          'non linear':'halofit',\n",
    "                          'H0': fiducial[0],\n",
    "                          'omega_b': fiducial[1]*1e-2,\n",
    "                          'omega_cdm': fiducial[2],\n",
    "                          'n_s': fiducial[3],\n",
    "                          'ln10^{10}A_s': fiducial[4],\n",
    "                          'tau_reio': 0.05,\n",
    "                          'N_ur':2.0328,\n",
    "                          'N_ncdm':1,\n",
    "                          'm_ncdm': 0.06\n",
    "                           }\n",
    "            \n",
    "        #Update with list of nuisance parameters\n",
    "        self.params_fid.update({'A_IA': fiducial[5],'eta_IA': fiducial[6],'beta_IA': beta_IA,\n",
    "                                'b_1': fiducial[7],'b_2': fiducial[8],'b_3': fiducial[9],'b_4': fiducial[10],\n",
    "                                'b_5': fiducial[11],'b_6': fiducial[12],'b_7': fiducial[13],'b_8': fiducial[14],\n",
    "                                'b_9': fiducial[15],'b_10':fiducial[16]})\n",
    "            \n",
    "        #obtain covariance matrix for fiducial spectra\n",
    "        self.observables_fid = self.calculator.get_calculations(self.params_fid)\n",
    "        self.Cls_fid = self.observables_fid.Cls\n",
    "        self.covmat_fid, self.noisy_Cls_fid = self.calculator.get_noisy_Cls(self.Cls_fid)\n",
    "        \n",
    "        # Perform Cholesky decomposition of the covariance matrix\n",
    "        self.L_fid = {}\n",
    "        for ind,ell in enumerate(self.ells):\n",
    "            self.L_fid[str(int(ell))] = torch.linalg.cholesky(torch.tensor(self.covmat_fid[str(int(ell))].values).double())\n",
    "      \n",
    "    def get_sample_Cls(self,z):\n",
    "\n",
    "        #Select cosmo parameters\n",
    "        self.params = {'output':'mPk',\n",
    "                      'non linear':'halofit',\n",
    "                      'H0': z[0],\n",
    "                      'omega_b': z[1]*1e-2,\n",
    "                      'omega_cdm': z[2],\n",
    "                      'n_s': z[3],\n",
    "                      'ln10^{10}A_s': z[4],\n",
    "                      'tau_reio': 0.05,\n",
    "                      'N_ur':2.0328,\n",
    "                      'N_ncdm':1,\n",
    "                      'm_ncdm': 0.06\n",
    "                       }\n",
    "    \n",
    "        #Update with list of nuisance parameters\n",
    "        self.params.update({'A_IA': z[5],'eta_IA': z[6],'beta_IA': beta_IA,\n",
    "                            'b_1': z[7],'b_2': z[8],'b_3': z[9],'b_4': z[10],'b_5': z[11],\n",
    "                            'b_6': z[12],'b_7': z[13],'b_8': z[14],'b_9': z[15],'b_10':z[16]})\n",
    "        \n",
    "        #compute un-noised C_ells spectra\n",
    "        self.observables = self.calculator.get_calculations(self.params)\n",
    "        self.Cls = self.observables.Cls    \n",
    "        self.Cls.pop('ells')\n",
    "        #Note: self.Cls is a dictionary, but in the simulator we need to have numpy arrays as the output of the graph.nodes            \n",
    "        vals_Cls = np.array(list(self.Cls.values))\n",
    "        return vals_Cls.transpose()\n",
    "    \n",
    "    def get_sample_noise(self):\n",
    "        #generate noise realization (using covariance matrix for fiducial cosmology)\n",
    "        self.noise = self.calculator.get_realization(None,self.covmat_fid,self.all_cols)\n",
    "        #Note: self.noise is a dictionary, but in the simulator we need to have numpy arrays as the output of the graph.nodes            \n",
    "        vals_noise = np.array(list(self.noise.values()))\n",
    "        return vals_noise\n",
    "    \n",
    "    def build(self, graph):\n",
    "        # define the computational graph of the simulator\n",
    "        z = graph.node('z', self.sample_z) #draw parameters from the prior\n",
    "        C_ells = graph.node('C_ells', self.get_sample_Cls, z) #compute un-noised Cls\n",
    "        noise  = graph.node('noise', self.get_sample_noise) # get the noise, we will add it to the un-noised Cls later"
   ]
  },
  {
   "cell_type": "markdown",
   "metadata": {},
   "source": [
    "Create an instance of the simulator class"
   ]
  },
  {
   "cell_type": "code",
   "execution_count": null,
   "metadata": {},
   "outputs": [],
   "source": [
    "sim = Simulator()\n",
    "shapes, dtypes = sim.get_shapes_and_dtypes()\n",
    "print(\"shapes:\", shapes)\n",
    "print(\"dtypes:\", dtypes)"
   ]
  },
  {
   "cell_type": "markdown",
   "metadata": {},
   "source": [
    "### Perform Fisher analysis"
   ]
  },
  {
   "cell_type": "code",
   "execution_count": null,
   "metadata": {},
   "outputs": [],
   "source": [
    "%%time\n",
    "\n",
    "#First, compute and store numerical derivatives\n",
    "def finiteD(i, eps=1e-2):\n",
    "    fiducial_1 = list(fiducial)\n",
    "    fiducial_1[i] = fiducial[i]*(1+eps)\n",
    "    fiducial_2 = list(fiducial)\n",
    "    fiducial_2[i] = fiducial[i]*(1-eps)\n",
    "    C1 = sim.sample(conditions = {'z': fiducial_1},targets = ['C_ells'])\n",
    "    C2 = sim.sample(conditions = {'z': fiducial_2},targets = ['C_ells'])\n",
    "    output = np.zeros((Nbin_ell-1,N_spectra))\n",
    "    for ell in range(Nbin_ell-1):\n",
    "        output[ell,:] = [(C1['C_ells'][idx_spec,ell] - C2['C_ells'][idx_spec,ell])/(fiducial[i]*(2*eps)) for idx_spec in range(N_spectra)]\n",
    "    return output\n",
    "\n",
    "ders = [finiteD(i) for i in range(N_pars)] \n",
    "\n",
    "#Then, compute Fisher matrix\n",
    "F = np.zeros((N_pars,N_pars))\n",
    "\n",
    "ell_lims = np.logspace(np.log10(lmin), np.log10(lmax), Nbin_ell)\n",
    "ells = 0.5*(ell_lims[:-1]+ell_lims[1:])\n",
    "\n",
    "for i in range(N_pars):\n",
    "    for j in range(N_pars):\n",
    "        d1=ders[i]\n",
    "        d2=ders[j]\n",
    "        term = 0.\n",
    "        for ellind,ell in enumerate(ells):\n",
    "            covmat = sim.covmat_fid[str(int(ell))]\n",
    "            icovmat = np.linalg.inv(covmat)\n",
    "            term += np.dot(d1[ellind,:],np.matmul(icovmat,d2[ellind,:]))\n",
    "        F[i,j] = term\n",
    "\n",
    "# We store the inverse of Fisher matrix\n",
    "Finv=np.linalg.inv(F)\n",
    "np.save('./Fisher/Finv_LCDM.npy',Finv)"
   ]
  }
 ],
 "metadata": {
  "kernelspec": {
   "display_name": "Python 3",
   "language": "python",
   "name": "python3"
  },
  "language_info": {
   "codemirror_mode": {
    "name": "ipython",
    "version": 3
   },
   "file_extension": ".py",
   "mimetype": "text/x-python",
   "name": "python",
   "nbconvert_exporter": "python",
   "pygments_lexer": "ipython3",
   "version": "3.7.1"
  }
 },
 "nbformat": 4,
 "nbformat_minor": 5
}
